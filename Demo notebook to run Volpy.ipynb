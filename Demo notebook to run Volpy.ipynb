{
 "cells": [
  {
   "cell_type": "markdown",
   "metadata": {},
   "source": [
    "# Setup"
   ]
  },
  {
   "cell_type": "markdown",
   "metadata": {
    "heading_collapsed": true
   },
   "source": [
    "## Imports"
   ]
  },
  {
   "cell_type": "markdown",
   "metadata": {
    "heading_collapsed": true,
    "hidden": true
   },
   "source": [
    "### Basics"
   ]
  },
  {
   "cell_type": "code",
   "execution_count": 5,
   "metadata": {
    "ExecuteTime": {
     "end_time": "2022-08-31T18:58:35.097216Z",
     "start_time": "2022-08-31T18:58:34.925321Z"
    },
    "hidden": true,
    "init_cell": true
   },
   "outputs": [
    {
     "name": "stdout",
     "output_type": "stream",
     "text": [
      "The autoreload extension is already loaded. To reload it, use:\n",
      "  %reload_ext autoreload\n"
     ]
    }
   ],
   "source": [
    "%matplotlib qt   \n",
    "import sys\n",
    "from os.path import sep\n",
    "\n",
    "# Replace this with the path to your local copy of the repository\n",
    "repo_path = 'G:{0}Shared drives{0}as_share{0}Voltage_imaging{0}Analysis2'.format(sep)\n",
    "sys.path.append(repo_path)\n",
    "\n",
    "import pickle as pkl\n",
    "import numpy as np\n",
    "import matplotlib.pyplot as plt\n",
    "import time\n",
    "from tqdm import tqdm\n",
    "import os\n",
    "\n",
    "# Enable autoreload of local modules\n",
    "get_ipython().magic('load_ext autoreload')\n",
    "get_ipython().magic('autoreload 2')\n",
    "%aimport PIL.Image, numpy, cv2, matplotlib.pyplot, time, importlib\n",
    "\n",
    "from IPython import get_ipython\n",
    "ipython = get_ipython()\n",
    "ipython.magic(\"gui qt5\")   "
   ]
  },
  {
   "cell_type": "markdown",
   "metadata": {
    "heading_collapsed": true,
    "hidden": true
   },
   "source": [
    "### Local (From voltage_imaging repo)"
   ]
  },
  {
   "cell_type": "code",
   "execution_count": 6,
   "metadata": {
    "ExecuteTime": {
     "end_time": "2022-08-31T18:58:38.853377Z",
     "start_time": "2022-08-31T18:58:38.651339Z"
    },
    "hidden": true,
    "init_cell": true,
    "run_control": {
     "marked": true
    }
   },
   "outputs": [],
   "source": [
    "# Local modules\n",
    "import get_metadata\n",
    "\n",
    "try:\n",
    "    from pre_processing import main as pp_main\n",
    "except:\n",
    "    from segmentation import main as seg_main\n",
    "    from volpy import main as vpy_main\n",
    "    from behavior_responses import main as br_main"
   ]
  },
  {
   "cell_type": "markdown",
   "metadata": {
    "heading_collapsed": true
   },
   "source": [
    "## Metadata"
   ]
  },
  {
   "cell_type": "code",
   "execution_count": 8,
   "metadata": {
    "ExecuteTime": {
     "end_time": "2022-08-31T19:02:06.966692Z",
     "start_time": "2022-08-31T19:02:01.945875Z"
    },
    "hidden": true,
    "init_cell": true
   },
   "outputs": [
    {
     "name": "stdout",
     "output_type": "stream",
     "text": [
      "Metadata not found. Create new file with defaults? y/nn\n",
      "Stopping\n"
     ]
    }
   ],
   "source": [
    "# Replace 'data path' with the folder where output should go\n",
    "data_path = 'G:{0}Shared drives{0}as_share{0}Voltage_imaging{0}'.format(sep)\n",
    "metadata_file = 'metadata.pkl'\n",
    "scanimage = True # True if using scanimage camera software for voltage imaging data acquisition\n",
    "\n",
    "frame_rate_Hz = 416\n",
    "n_sessions = 2\n",
    "sessions_to_process = [1, 2]\n",
    "raw_tiff_image_path = {1: 'H:{0}'.format(sep),\n",
    "                       2: 'H:{0}'.format(sep)} # Location of raw data for each session\n",
    "trial_tiff_image_path = {1: 'H:{0}'.format(sep),\n",
    "                         2: 'H:{0}'.format(sep)} # Location to store movies after pre-processing\n",
    "\n",
    "# Files containing camera frame times, illumination on signal etc\n",
    "daq_file_paths = {1: 'G:{0}Shared drives{0}as_share{0}Wavesurfer_recordings{0}'.format(sep),\n",
    "                  2: 'G:{0}Shared drives{0}as_share{0}Wavesurfer_recordings{0}'.format(sep),}\n",
    "\n",
    "# If imaging during behavior controlled by Bpod\n",
    "bpod_file_path = 'G:{0}Shared drives{0}as_share{0}Bpod{0}Data{0}'.format(sep)\n",
    "bpod_trial_numbers = {1: [], 2: []}\n",
    "\n",
    "# Daq channels in wavesurfer\n",
    "vcam_trig_in_channel = 'Analog6'\n",
    "trial_start_trig_channel = 'Analog4'\n",
    "vcam_trig_out_channel = 'Analog1'\n",
    "led_trig_channel = 'Digital1'\n",
    "\n",
    "metadata = get_metadata.get_metadata(data_path, metadata_file, \n",
    "                                     scanimage, frame_rate_Hz, n_sessions, sessions_to_process,\n",
    "                                     raw_tiff_image_path, trial_tiff_image_path, \n",
    "                                     daq_file_paths, bpod_file_path, bpod_trial_numbers,\n",
    "                                     vcam_trig_in_channel, vcam_trig_out_channel, \n",
    "                                     trial_start_trig_channel, led_trig_channel,\n",
    "                                    )\n",
    "\n",
    "\n"
   ]
  },
  {
   "cell_type": "markdown",
   "metadata": {
    "heading_collapsed": true
   },
   "source": [
    "# Pre-processing"
   ]
  },
  {
   "cell_type": "code",
   "execution_count": 20,
   "metadata": {
    "ExecuteTime": {
     "end_time": "2021-07-31T14:00:02.740106Z",
     "start_time": "2021-07-31T13:59:55.147692Z"
    },
    "hidden": true,
    "scrolled": true
   },
   "outputs": [
    {
     "name": "stdout",
     "output_type": "stream",
     "text": [
      "Frame times and trial start frames loaded\n",
      " \n",
      "Writing tiff stacks\n",
      "Session 1: 87 trials\n",
      "Trial 1: 0.0 seconds. Tiff stack exists\n",
      "Trial 2: 0.0 seconds. Tiff stack exists\n",
      "Trial 3: 0.0 seconds. Tiff stack exists\n",
      "Trial 4: 0.0 seconds. Tiff stack exists\n",
      "Trial 5: 0.0 seconds. Tiff stack exists\n",
      "Trial 6: 0.0 seconds. Tiff stack exists\n",
      "Trial 7: 1.0 seconds. Tiff stack exists\n",
      "Trial 8: 1.0 seconds. Tiff stack exists\n",
      "Trial 9: 1.0 seconds. Tiff stack exists\n",
      "Trial 10: 1.0 seconds. Tiff stack exists\n",
      "Trial 11: 1.0 seconds. Tiff stack exists\n",
      "Trial 12: 1.0 seconds. Tiff stack exists\n",
      "Trial 13: 1.0 seconds. Tiff stack exists\n",
      "Trial 14: 1.0 seconds. Tiff stack exists\n",
      "Trial 15: 1.0 seconds. Tiff stack exists\n",
      "Trial 16: 1.0 seconds. Tiff stack exists\n",
      "Trial 17: 1.0 seconds. Tiff stack exists\n",
      "Trial 18: 1.0 seconds. Tiff stack exists\n",
      "Trial 19: 1.0 seconds. Tiff stack exists\n",
      "Trial 20: 1.0 seconds. Tiff stack exists\n",
      "Trial 21: 1.0 seconds. Tiff stack exists\n",
      "Trial 22: 1.0 seconds. Tiff stack exists\n",
      "Trial 23: 1.0 seconds. Tiff stack exists\n",
      "Trial 24: 1.0 seconds. Tiff stack exists\n",
      "Trial 25: 1.0 seconds. Tiff stack exists\n",
      "Trial 26: 1.0 seconds. Tiff stack exists\n",
      "Trial 27: 1.0 seconds. Tiff stack exists\n",
      "Trial 28: 1.0 seconds. Tiff stack exists\n",
      "Trial 29: 1.0 seconds. Tiff stack exists\n",
      "Trial 30: 1.0 seconds. Tiff stack exists\n",
      "Trial 31: 1.0 seconds. Tiff stack exists\n",
      "Trial 32: 1.0 seconds. Tiff stack exists\n",
      "Trial 33: 1.0 seconds. Tiff stack exists\n",
      "Trial 34: 1.0 seconds. Tiff stack exists\n",
      "Trial 35: 1.0 seconds. Tiff stack exists\n",
      "Trial 36: 1.0 seconds. Tiff stack exists\n",
      "Trial 37: 1.0 seconds. Tiff stack exists\n",
      "Trial 38: 1.0 seconds. Tiff stack exists\n",
      "Trial 39: 1.0 seconds. Tiff stack exists\n",
      "Trial 40: 1.0 seconds. Tiff stack exists\n",
      "Trial 41: 1.0 seconds. Tiff stack exists\n",
      "Trial 42: 1.0 seconds. Tiff stack exists\n",
      "Trial 43: 1.0 seconds. Tiff stack exists\n",
      "Trial 44: 1.0 seconds. Tiff stack exists\n",
      "Trial 45: 1.0 seconds. Tiff stack exists\n",
      "Trial 46: 1.0 seconds. Tiff stack exists\n",
      "Trial 47: 1.0 seconds. Tiff stack exists\n",
      "Trial 48: 1.0 seconds. Tiff stack exists\n",
      "Trial 49: 1.0 seconds. Tiff stack exists\n",
      "Trial 50: 1.0 seconds. Tiff stack exists\n",
      "Trial 51: 1.0 seconds. Tiff stack exists\n",
      "Trial 52: 1.0 seconds. Tiff stack exists\n",
      "Trial 53: 1.0 seconds. Tiff stack exists\n",
      "Trial 54: 1.0 seconds. Tiff stack exists\n",
      "Trial 55: 1.0 seconds. Tiff stack exists\n",
      "Trial 56: 1.0 seconds. Tiff stack exists\n",
      "Trial 57: 1.0 seconds. Tiff stack exists\n",
      "Trial 58: 1.0 seconds. Tiff stack exists\n",
      "Trial 59: 1.0 seconds. Tiff stack exists\n",
      "Trial 60: 1.0 seconds. Tiff stack exists\n",
      "Trial 61: 1.0 seconds. Tiff stack exists\n",
      "Trial 62: 1.0 seconds. Tiff stack exists\n",
      "Trial 63: 1.0 seconds. Tiff stack exists\n",
      "Trial 64: 1.0 seconds. Tiff stack exists\n",
      "Trial 65: 1.0 seconds. Tiff stack exists\n",
      "Trial 66: 1.0 seconds. Tiff stack exists\n",
      "Trial 67: 1.0 seconds. Tiff stack exists\n",
      "Trial 68: 1.0 seconds. Tiff stack exists\n",
      "Trial 69: 1.0 seconds. Tiff stack exists\n",
      "Trial 70: 1.0 seconds. Tiff stack exists\n",
      "Trial 71: 1.0 seconds. Tiff stack exists\n",
      "Trial 72: 1.0 seconds. Tiff stack exists\n",
      "Trial 73: 1.0 seconds. Tiff stack exists\n",
      "Trial 74: 1.0 seconds. Tiff stack exists\n",
      "Trial 75: 1.0 seconds. Tiff stack exists\n",
      "Trial 76: 1.0 seconds. Tiff stack exists\n",
      "Trial 77: 1.0 seconds. Tiff stack exists\n",
      "Trial 78: 1.0 seconds. Tiff stack exists\n",
      "Trial 79: 1.0 seconds. Tiff stack exists\n",
      "Trial 80: 1.0 seconds. Tiff stack exists\n",
      "Trial 81: 1.0 seconds. Tiff stack exists\n",
      "Trial 82: 1.0 seconds. Tiff stack exists\n",
      "Trial 83: 1.0 seconds. Tiff stack exists\n",
      "Trial 84: 1.0 seconds. Tiff stack exists\n",
      "Trial 85: 1.0 seconds. Tiff stack exists\n",
      "Trial 86: 1.0 seconds. Tiff stack exists\n",
      "Trial 87: 1.0 seconds. Tiff stack exists\n",
      "Session 2: 82 trials\n",
      "Trial 1: 0.0 seconds. Tiff stack exists\n",
      "Trial 2: 0.0 seconds. Tiff stack exists\n",
      "Trial 3: 0.0 seconds. Tiff stack exists\n",
      "Trial 4: 0.0 seconds. Tiff stack exists\n",
      "Trial 5: 0.0 seconds. Tiff stack exists\n",
      "Trial 6: 0.0 seconds. Tiff stack exists\n",
      "Trial 7: 0.0 seconds. Tiff stack exists\n",
      "Trial 8: 0.0 seconds. Tiff stack exists\n",
      "Trial 9: 0.0 seconds. Tiff stack exists\n",
      "Trial 10: 0.0 seconds. Tiff stack exists\n",
      "Trial 11: 0.0 seconds. Tiff stack exists\n",
      "Trial 12: 0.0 seconds. Tiff stack exists\n",
      "Trial 13: 0.0 seconds. Tiff stack exists\n",
      "Trial 14: 0.0 seconds. Tiff stack exists\n",
      "Trial 15: 0.0 seconds. Tiff stack exists\n",
      "Trial 16: 0.0 seconds. Tiff stack exists\n",
      "Trial 17: 0.0 seconds. Tiff stack exists\n",
      "Trial 18: 0.0 seconds. Tiff stack exists\n",
      "Trial 19: 0.0 seconds. Tiff stack exists\n",
      "Trial 20: 0.0 seconds. Tiff stack exists\n",
      "Trial 21: 0.0 seconds. Tiff stack exists\n",
      "Trial 22: 0.0 seconds. Tiff stack exists\n",
      "Trial 23: 0.0 seconds. Tiff stack exists\n",
      "Trial 24: 0.0 seconds. Tiff stack exists\n",
      "Trial 25: 0.0 seconds. Tiff stack exists\n",
      "Trial 26: 0.0 seconds. Tiff stack exists\n",
      "Trial 27: 0.0 seconds. Tiff stack exists\n",
      "Trial 28: 0.0 seconds. Tiff stack exists\n",
      "Trial 29: 0.0 seconds. Tiff stack exists\n",
      "Trial 30: 0.0 seconds. Tiff stack exists\n",
      "Trial 31: 0.0 seconds. Tiff stack exists\n",
      "Trial 32: 0.0 seconds. Tiff stack exists\n",
      "Trial 33: 0.0 seconds. Tiff stack exists\n",
      "Trial 34: 0.0 seconds. Tiff stack exists\n",
      "Trial 35: 0.0 seconds. Tiff stack exists\n",
      "Trial 36: 0.0 seconds. Tiff stack exists\n",
      "Trial 37: 0.0 seconds. Tiff stack exists\n",
      "Trial 38: 0.0 seconds. Tiff stack exists\n",
      "Trial 39: 0.0 seconds. Tiff stack exists\n",
      "Trial 40: 0.0 seconds. Tiff stack exists\n",
      "Trial 41: 0.0 seconds. Tiff stack exists\n",
      "Trial 42: 0.0 seconds. Tiff stack exists\n",
      "Trial 43: 0.0 seconds. Tiff stack exists\n",
      "Trial 44: 0.0 seconds. Tiff stack exists\n",
      "Trial 45: 0.0 seconds. Tiff stack exists\n",
      "Trial 46: 0.0 seconds. Tiff stack exists\n",
      "Trial 47: 0.0 seconds. Tiff stack exists\n",
      "Trial 48: 0.0 seconds. Tiff stack exists\n",
      "Trial 49: 0.0 seconds. Tiff stack exists\n",
      "Trial 50: 0.0 seconds. Tiff stack exists\n",
      "Trial 51: 0.0 seconds. Tiff stack exists\n",
      "Trial 52: 0.0 seconds. Tiff stack exists\n",
      "Trial 53: 0.0 seconds. Tiff stack exists\n",
      "Trial 54: 0.0 seconds. Tiff stack exists\n",
      "Trial 55: 0.0 seconds. Tiff stack exists\n",
      "Trial 56: 0.0 seconds. Tiff stack exists\n",
      "Trial 57: 0.0 seconds. Tiff stack exists\n",
      "Trial 58: 0.0 seconds. Tiff stack exists\n",
      "Trial 59: 0.0 seconds. Tiff stack exists\n",
      "Trial 60: 0.0 seconds. Tiff stack exists\n",
      "Trial 61: 0.0 seconds. Tiff stack exists\n",
      "Trial 62: 0.0 seconds. Tiff stack exists\n",
      "Trial 63: 0.0 seconds. Tiff stack exists\n",
      "Trial 64: 0.0 seconds. Tiff stack exists\n",
      "Trial 65: 0.0 seconds. Tiff stack exists\n",
      "Trial 66: 0.0 seconds. Tiff stack exists\n",
      "Trial 67: 0.0 seconds. Tiff stack exists\n",
      "Trial 68: 0.0 seconds. Tiff stack exists\n",
      "Trial 69: 0.0 seconds. Tiff stack exists\n",
      "Trial 70: 0.0 seconds. Tiff stack exists\n",
      "Trial 71: 0.0 seconds. Tiff stack exists\n",
      "Trial 72: 0.0 seconds. Tiff stack exists\n",
      "Trial 73: 0.0 seconds. Tiff stack exists\n",
      "Trial 74: 0.0 seconds. Tiff stack exists\n",
      "Trial 75: 0.0 seconds. Tiff stack exists\n",
      "Trial 76: 0.0 seconds. Tiff stack exists\n",
      "Trial 77: 0.0 seconds. Tiff stack exists\n",
      "Trial 78: 0.0 seconds. Tiff stack exists\n",
      "Trial 79: 0.0 seconds. Tiff stack exists\n",
      "Trial 80: 0.0 seconds. Tiff stack exists\n",
      "Trial 81: 0.0 seconds. Tiff stack exists\n",
      "Trial 82: 0.0 seconds. Tiff stack exists\n",
      "Could not load Bpod data. Overwriting\n"
     ]
    }
   ],
   "source": [
    "pp_main.main(data_path, metadata_file, \n",
    "             overwrite_frame_and_trial_times = False, \n",
    "             overwrite_tiff_metadata = False, \n",
    "             overwrite_daq_data= False,\n",
    "             overwrite_tiff_stacks = False, \n",
    "             overwrite_bpod_data = False, \n",
    "             save_mean_px_val_fig= False\n",
    "         )"
   ]
  },
  {
   "cell_type": "markdown",
   "metadata": {},
   "source": [
    "# Motion correction and cell segmentation (draw initial ROIs)"
   ]
  },
  {
   "cell_type": "code",
   "execution_count": 37,
   "metadata": {
    "ExecuteTime": {
     "end_time": "2021-07-31T20:49:26.665390Z",
     "start_time": "2021-07-31T20:49:25.003546Z"
    },
    "code_folding": [],
    "scrolled": true
   },
   "outputs": [
    {
     "name": "stdout",
     "output_type": "stream",
     "text": [
      "Found registered mmap filenames\n",
      "Rois loaded\n",
      "ROI arrays loaded\n",
      "Overwriting ROI arrays\n",
      "Loaded segmentation images\n",
      "Loaded segmentation images\n"
     ]
    }
   ],
   "source": [
    "seg_main.main(data_path, metadata_file, \n",
    "              overwrite_registered_mmap_filenames = False,\n",
    "              overwrite_rois = False, \n",
    "              overwrite_roi_arrays = False,\n",
    "              make_roi_fig = False)"
   ]
  },
  {
   "cell_type": "markdown",
   "metadata": {},
   "source": [
    "# Volpy"
   ]
  },
  {
   "cell_type": "code",
   "execution_count": 21,
   "metadata": {
    "ExecuteTime": {
     "end_time": "2021-08-17T19:22:44.816560Z",
     "start_time": "2021-08-17T19:22:30.579252Z"
    }
   },
   "outputs": [
    {
     "name": "stdout",
     "output_type": "stream",
     "text": [
      "Volpy results loaded\n",
      "Found quality control results\n",
      "Session 1: 27 good cells\n",
      "Session 2: 24 good cells\n",
      "Combined data loaded\n"
     ]
    }
   ],
   "source": [
    "vpy_main.main(data_path, metadata_file, \n",
    "              overwrite_volpy_results = False,\n",
    "              disp_combined_data = False,\n",
    "              disp_output = False\n",
    "             )"
   ]
  },
  {
   "cell_type": "markdown",
   "metadata": {},
   "source": [
    "# Behavior responses"
   ]
  },
  {
   "cell_type": "code",
   "execution_count": 8,
   "metadata": {
    "ExecuteTime": {
     "end_time": "2021-07-31T21:17:48.908652Z",
     "start_time": "2021-07-31T21:17:13.003928Z"
    }
   },
   "outputs": [
    {
     "name": "stdout",
     "output_type": "stream",
     "text": [
      "Loaded number of frames per trial\n",
      "ROI arrays loaded\n",
      "ROI arrays loaded\n",
      "Cell 1\n",
      "Cell 2\n",
      "Cell 3\n",
      "Cell 4\n",
      "Cell 5\n",
      "Cell 6\n",
      "Cell 7\n",
      "Cell 8\n",
      "Cell 9\n",
      "Cell 10\n",
      "Cell 11\n",
      "Cell 12\n",
      "Cell 13\n",
      "Cell 14\n",
      "Cell 15\n",
      "Cell 16\n",
      "Cell 17\n",
      "Cell 18\n",
      "Cell 19\n",
      "Cell 20\n",
      "Cell 21\n",
      "Cell 22\n",
      "Cell 23\n",
      "Cell 24\n",
      "Cell 25\n",
      "Cell 26\n",
      "Cell 27\n",
      "Cell 28\n",
      "Cell 29\n",
      "Cell 30\n"
     ]
    }
   ],
   "source": [
    "br_main.main(data_path, metadata_file, bin_size_psth_ms= 100)"
   ]
  },
  {
   "cell_type": "code",
   "execution_count": 9,
   "metadata": {
    "ExecuteTime": {
     "end_time": "2021-07-31T21:20:20.817050Z",
     "start_time": "2021-07-31T21:20:20.630551Z"
    }
   },
   "outputs": [],
   "source": [
    "plt.close('all')"
   ]
  },
  {
   "cell_type": "code",
   "execution_count": null,
   "metadata": {},
   "outputs": [],
   "source": []
  }
 ],
 "metadata": {
  "celltoolbar": "Initialization Cell",
  "kernelspec": {
   "display_name": "voltage_imaging",
   "language": "python",
   "name": "voltage_imaging"
  },
  "language_info": {
   "codemirror_mode": {
    "name": "ipython",
    "version": 3
   },
   "file_extension": ".py",
   "mimetype": "text/x-python",
   "name": "python",
   "nbconvert_exporter": "python",
   "pygments_lexer": "ipython3",
   "version": "3.6.10"
  },
  "toc": {
   "base_numbering": 1,
   "nav_menu": {},
   "number_sections": true,
   "sideBar": true,
   "skip_h1_title": false,
   "title_cell": "Table of Contents",
   "title_sidebar": "Contents",
   "toc_cell": false,
   "toc_position": {
    "height": "641px",
    "left": "0px",
    "right": "1413px",
    "top": "110px",
    "width": "260px"
   },
   "toc_section_display": "block",
   "toc_window_display": true
  },
  "varInspector": {
   "cols": {
    "lenName": 16,
    "lenType": 16,
    "lenVar": 40
   },
   "kernels_config": {
    "python": {
     "delete_cmd_postfix": "",
     "delete_cmd_prefix": "del ",
     "library": "var_list.py",
     "varRefreshCmd": "print(var_dic_list())"
    },
    "r": {
     "delete_cmd_postfix": ") ",
     "delete_cmd_prefix": "rm(",
     "library": "var_list.r",
     "varRefreshCmd": "cat(var_dic_list()) "
    }
   },
   "oldHeight": 582.638,
   "position": {
    "height": "40px",
    "left": "1356px",
    "right": "20px",
    "top": "79px",
    "width": "568.638px"
   },
   "types_to_exclude": [
    "module",
    "function",
    "builtin_function_or_method",
    "instance",
    "_Feature"
   ],
   "varInspector_section_display": "none",
   "window_display": true
  }
 },
 "nbformat": 4,
 "nbformat_minor": 2
}
